{
 "cells": [
  {
   "cell_type": "markdown",
   "metadata": {},
   "source": [
    "### Importer OpenCV"
   ]
  },
  {
   "cell_type": "code",
   "execution_count": 45,
   "metadata": {},
   "outputs": [],
   "source": [
    "import cv2"
   ]
  },
  {
   "cell_type": "markdown",
   "metadata": {},
   "source": [
    "### Ajouter le chemin vers l'image"
   ]
  },
  {
   "cell_type": "code",
   "execution_count": 46,
   "metadata": {},
   "outputs": [],
   "source": [
    "path = './img/test.jpg'\n",
    "image = cv2.imread(path)"
   ]
  },
  {
   "cell_type": "markdown",
   "metadata": {},
   "source": [
    "### Prendre les dimensions de l'image"
   ]
  },
  {
   "cell_type": "code",
   "execution_count": 47,
   "metadata": {},
   "outputs": [],
   "source": [
    "height = image.shape[0]\n",
    "width = image.shape[1]"
   ]
  },
  {
   "cell_type": "markdown",
   "metadata": {},
   "source": [
    "### choisir le nombre de division"
   ]
  },
  {
   "cell_type": "code",
   "execution_count": 48,
   "metadata": {},
   "outputs": [],
   "source": [
    "num_rows = 2\n",
    "num_columns = 4 \n",
    "\n",
    "x = width // num_columns\n",
    "y = height // num_rows"
   ]
  },
  {
   "cell_type": "markdown",
   "metadata": {},
   "source": [
    "### Deviser l'image et l'enregistrer"
   ]
  },
  {
   "cell_type": "code",
   "execution_count": 50,
   "metadata": {},
   "outputs": [
    {
     "ename": "error",
     "evalue": "OpenCV(4.6.0) D:\\a\\opencv-python\\opencv-python\\opencv\\modules\\imgcodecs\\src\\loadsave.cpp:801: error: (-215:Assertion failed) !_img.empty() in function 'cv::imwrite'\n",
     "output_type": "error",
     "traceback": [
      "\u001b[1;31m---------------------------------------------------------------------------\u001b[0m",
      "\u001b[1;31merror\u001b[0m                                     Traceback (most recent call last)",
      "\u001b[1;32mc:\\Users\\hicha\\my_projects\\portfolio_projects\\image_classification\\split_image.ipynb Cell 10\u001b[0m in \u001b[0;36m<cell line: 1>\u001b[1;34m()\u001b[0m\n\u001b[0;32m      <a href='vscode-notebook-cell:/c%3A/Users/hicha/my_projects/portfolio_projects/image_classification/split_image.ipynb#ch0000005?line=1'>2</a>\u001b[0m \u001b[39mfor\u001b[39;00m i \u001b[39min\u001b[39;00m \u001b[39mrange\u001b[39m(num_columns):\n\u001b[0;32m      <a href='vscode-notebook-cell:/c%3A/Users/hicha/my_projects/portfolio_projects/image_classification/split_image.ipynb#ch0000005?line=2'>3</a>\u001b[0m     img \u001b[39m=\u001b[39m image[j\u001b[39m*\u001b[39my: (j\u001b[39m+\u001b[39m\u001b[39m1\u001b[39m)\u001b[39m*\u001b[39my, i\u001b[39m*\u001b[39mx:(i\u001b[39m+\u001b[39m\u001b[39m1\u001b[39m)\u001b[39m*\u001b[39mx]\n\u001b[1;32m----> <a href='vscode-notebook-cell:/c%3A/Users/hicha/my_projects/portfolio_projects/image_classification/split_image.ipynb#ch0000005?line=3'>4</a>\u001b[0m     cv2\u001b[39m.\u001b[39;49mimwrite(\u001b[39mf\u001b[39;49m\u001b[39m'\u001b[39;49m\u001b[39m./img/split/image\u001b[39;49m\u001b[39m{\u001b[39;49;00mj\u001b[39m}\u001b[39;49;00m\u001b[39m{\u001b[39;49;00mi\u001b[39m}\u001b[39;49;00m\u001b[39m.jpg\u001b[39;49m\u001b[39m'\u001b[39;49m,img)\n",
      "\u001b[1;31merror\u001b[0m: OpenCV(4.6.0) D:\\a\\opencv-python\\opencv-python\\opencv\\modules\\imgcodecs\\src\\loadsave.cpp:801: error: (-215:Assertion failed) !_img.empty() in function 'cv::imwrite'\n"
     ]
    }
   ],
   "source": [
    "for j in range(num_rows):\n",
    "    for i in range(num_columns):\n",
    "        img = image[j*y: (j+1)*y, i*x:(i+1)*x]\n",
    "        cv2.imwrite(f'./img/split/image{j}{i}.jpg',img)\n"
   ]
  }
 ],
 "metadata": {
  "kernelspec": {
   "display_name": "Python 3.10.5 ('image_classification-ne-ZoWyM')",
   "language": "python",
   "name": "python3"
  },
  "language_info": {
   "codemirror_mode": {
    "name": "ipython",
    "version": 3
   },
   "file_extension": ".py",
   "mimetype": "text/x-python",
   "name": "python",
   "nbconvert_exporter": "python",
   "pygments_lexer": "ipython3",
   "version": "3.10.5"
  },
  "orig_nbformat": 4,
  "vscode": {
   "interpreter": {
    "hash": "0125b9fc5c3837ce3c1ee051bdb19d93ff40ddbaffc06effe483d30a59ffdf44"
   }
  }
 },
 "nbformat": 4,
 "nbformat_minor": 2
}
